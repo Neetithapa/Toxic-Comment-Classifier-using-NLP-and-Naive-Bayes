{
 "cells": [
  {
   "cell_type": "code",
   "execution_count": 1,
   "id": "ff1c2358",
   "metadata": {},
   "outputs": [],
   "source": [
    "import pandas as pd\n",
    "import numpy as np\n",
    "import matplotlib.pyplot as plt"
   ]
  },
  {
   "cell_type": "code",
   "execution_count": 2,
   "id": "8d6707a4",
   "metadata": {},
   "outputs": [
    {
     "name": "stderr",
     "output_type": "stream",
     "text": [
      "[nltk_data] Downloading package punkt to\n",
      "[nltk_data]     C:\\Users\\ASUS\\AppData\\Roaming\\nltk_data...\n",
      "[nltk_data]   Package punkt is already up-to-date!\n",
      "[nltk_data] Downloading package omw-1.4 to\n",
      "[nltk_data]     C:\\Users\\ASUS\\AppData\\Roaming\\nltk_data...\n",
      "[nltk_data]   Package omw-1.4 is already up-to-date!\n",
      "[nltk_data] Downloading package wordnet to\n",
      "[nltk_data]     C:\\Users\\ASUS\\AppData\\Roaming\\nltk_data...\n",
      "[nltk_data]   Package wordnet is already up-to-date!\n",
      "[nltk_data] Downloading package stopwords to\n",
      "[nltk_data]     C:\\Users\\ASUS\\AppData\\Roaming\\nltk_data...\n",
      "[nltk_data]   Package stopwords is already up-to-date!\n",
      "[nltk_data] Downloading package averaged_perceptron_tagger to\n",
      "[nltk_data]     C:\\Users\\ASUS\\AppData\\Roaming\\nltk_data...\n",
      "[nltk_data]   Package averaged_perceptron_tagger is already up-to-\n",
      "[nltk_data]       date!\n"
     ]
    }
   ],
   "source": [
    "import nltk\n",
    "nltk.download('punkt')\n",
    "nltk.download('omw-1.4')\n",
    "nltk.download('wordnet')\n",
    "nltk.download('stopwords')\n",
    "nltk.download('averaged_perceptron_tagger')\n",
    "from nltk import WordNetLemmatizer\n",
    "from nltk import pos_tag, word_tokenize\n",
    "from nltk.corpus import stopwords as nltk_stopwords\n",
    "from nltk.corpus import wordnet"
   ]
  },
  {
   "cell_type": "code",
   "execution_count": 3,
   "id": "35d522ba",
   "metadata": {},
   "outputs": [],
   "source": [
    "import re\n",
    "from sklearn.feature_extraction.text import TfidfVectorizer\n",
    "from sklearn.model_selection import train_test_split\n",
    "from sklearn.naive_bayes import MultinomialNB\n",
    "from sklearn.metrics import accuracy_score, roc_auc_score, roc_curve\n",
    "import pickle\n",
    "import tkinter as tk\n",
    "from tkinter import ttk\n"
   ]
  },
  {
   "cell_type": "code",
   "execution_count": 4,
   "id": "278acdb6",
   "metadata": {},
   "outputs": [],
   "source": [
    "# Instantiate the lemmatizer\n",
    "wordnet_lemmatizer = WordNetLemmatizer()"
   ]
  },
  {
   "cell_type": "code",
   "execution_count": 5,
   "id": "df308746",
   "metadata": {},
   "outputs": [],
   "source": [
    "# Function to prepare text\n",
    "def prepare_text(text):\n",
    "    def get_wordnet_pos(treebank_tag):\n",
    "        if treebank_tag.startswith('J'):\n",
    "            return wordnet.ADJ\n",
    "        elif treebank_tag.startswith('V'):\n",
    "            return wordnet.VERB\n",
    "        elif treebank_tag.startswith('N'):\n",
    "            return wordnet.NOUN\n",
    "        elif treebank_tag.startswith('R'):\n",
    "            return wordnet.ADV\n",
    "        else:\n",
    "            return wordnet.NOUN\n",
    "    text = re.sub(r'[^a-zA-Z\\']', ' ', text)\n",
    "    text = text.split()\n",
    "    text = ' '.join(text)\n",
    "    text = word_tokenize(text)\n",
    "    text = pos_tag(text)\n",
    "    lemma = []\n",
    "    for i in text: lemma.append(wordnet_lemmatizer.lemmatize(i[0], pos = get_wordnet_pos(i[1])))\n",
    "    lemma = ' '.join(lemma)\n",
    "    return lemma"
   ]
  },
  {
   "cell_type": "code",
   "execution_count": 29,
   "id": "8682cc27",
   "metadata": {},
   "outputs": [
    {
     "data": {
      "text/html": [
       "<div>\n",
       "<style scoped>\n",
       "    .dataframe tbody tr th:only-of-type {\n",
       "        vertical-align: middle;\n",
       "    }\n",
       "\n",
       "    .dataframe tbody tr th {\n",
       "        vertical-align: top;\n",
       "    }\n",
       "\n",
       "    .dataframe thead th {\n",
       "        text-align: right;\n",
       "    }\n",
       "</style>\n",
       "<table border=\"1\" class=\"dataframe\">\n",
       "  <thead>\n",
       "    <tr style=\"text-align: right;\">\n",
       "      <th></th>\n",
       "      <th>Toxicity</th>\n",
       "      <th>tweet</th>\n",
       "      <th>clean_tweets</th>\n",
       "    </tr>\n",
       "  </thead>\n",
       "  <tbody>\n",
       "    <tr>\n",
       "      <th>0</th>\n",
       "      <td>0</td>\n",
       "      <td>@user when a father is dysfunctional and is s...</td>\n",
       "      <td>user when a father be dysfunctional and be so ...</td>\n",
       "    </tr>\n",
       "    <tr>\n",
       "      <th>1</th>\n",
       "      <td>0</td>\n",
       "      <td>@user @user thanks for #lyft credit i can't us...</td>\n",
       "      <td>user user thanks for lyft credit i ca n't use ...</td>\n",
       "    </tr>\n",
       "    <tr>\n",
       "      <th>2</th>\n",
       "      <td>0</td>\n",
       "      <td>bihday your majesty</td>\n",
       "      <td>bihday your majesty</td>\n",
       "    </tr>\n",
       "    <tr>\n",
       "      <th>3</th>\n",
       "      <td>0</td>\n",
       "      <td>#model   i love u take with u all the time in ...</td>\n",
       "      <td>model i love u take with u all the time in ur</td>\n",
       "    </tr>\n",
       "    <tr>\n",
       "      <th>4</th>\n",
       "      <td>0</td>\n",
       "      <td>factsguide: society now    #motivation</td>\n",
       "      <td>factsguide society now motivation</td>\n",
       "    </tr>\n",
       "    <tr>\n",
       "      <th>...</th>\n",
       "      <td>...</td>\n",
       "      <td>...</td>\n",
       "      <td>...</td>\n",
       "    </tr>\n",
       "    <tr>\n",
       "      <th>56740</th>\n",
       "      <td>1</td>\n",
       "      <td>you's a muthaf***in lie &amp;#8220;@LifeAsKing: @2...</td>\n",
       "      <td>you 's a muthaf in lie LifeAsKing Pearls corey...</td>\n",
       "    </tr>\n",
       "    <tr>\n",
       "      <th>56741</th>\n",
       "      <td>1</td>\n",
       "      <td>you've gone and broke the wrong heart baby, an...</td>\n",
       "      <td>you 've go and break the wrong heart baby and ...</td>\n",
       "    </tr>\n",
       "    <tr>\n",
       "      <th>56742</th>\n",
       "      <td>1</td>\n",
       "      <td>young buck wanna eat!!.. dat nigguh like I ain...</td>\n",
       "      <td>young buck wan na eat dat nigguh like I aint f...</td>\n",
       "    </tr>\n",
       "    <tr>\n",
       "      <th>56743</th>\n",
       "      <td>1</td>\n",
       "      <td>youu got wild bitches tellin you lies</td>\n",
       "      <td>youu get wild bitch tellin you lie</td>\n",
       "    </tr>\n",
       "    <tr>\n",
       "      <th>56744</th>\n",
       "      <td>0</td>\n",
       "      <td>~~Ruffled | Ntac Eileen Dahlia - Beautiful col...</td>\n",
       "      <td>Ruffled Ntac Eileen Dahlia Beautiful color com...</td>\n",
       "    </tr>\n",
       "  </tbody>\n",
       "</table>\n",
       "<p>56745 rows × 3 columns</p>\n",
       "</div>"
      ],
      "text/plain": [
       "       Toxicity                                              tweet  \\\n",
       "0             0   @user when a father is dysfunctional and is s...   \n",
       "1             0  @user @user thanks for #lyft credit i can't us...   \n",
       "2             0                                bihday your majesty   \n",
       "3             0  #model   i love u take with u all the time in ...   \n",
       "4             0             factsguide: society now    #motivation   \n",
       "...         ...                                                ...   \n",
       "56740         1  you's a muthaf***in lie &#8220;@LifeAsKing: @2...   \n",
       "56741         1  you've gone and broke the wrong heart baby, an...   \n",
       "56742         1  young buck wanna eat!!.. dat nigguh like I ain...   \n",
       "56743         1              youu got wild bitches tellin you lies   \n",
       "56744         0  ~~Ruffled | Ntac Eileen Dahlia - Beautiful col...   \n",
       "\n",
       "                                            clean_tweets  \n",
       "0      user when a father be dysfunctional and be so ...  \n",
       "1      user user thanks for lyft credit i ca n't use ...  \n",
       "2                                    bihday your majesty  \n",
       "3          model i love u take with u all the time in ur  \n",
       "4                      factsguide society now motivation  \n",
       "...                                                  ...  \n",
       "56740  you 's a muthaf in lie LifeAsKing Pearls corey...  \n",
       "56741  you 've go and break the wrong heart baby and ...  \n",
       "56742  young buck wan na eat dat nigguh like I aint f...  \n",
       "56743                 youu get wild bitch tellin you lie  \n",
       "56744  Ruffled Ntac Eileen Dahlia Beautiful color com...  \n",
       "\n",
       "[56745 rows x 3 columns]"
      ]
     },
     "execution_count": 29,
     "metadata": {},
     "output_type": "execute_result"
    }
   ],
   "source": [
    "# Load dataset and preprocess\n",
    "df = pd.read_csv('FinalBalancedDataset.csv')\n",
    "\n",
    "df = df.drop(\"Unnamed: 0\", axis=1)\n",
    "\n",
    "df['clean_tweets'] = df['tweet'].apply(lambda x: prepare_text(x))\n",
    "df\n"
   ]
  },
  {
   "cell_type": "code",
   "execution_count": 7,
   "id": "f61ad158",
   "metadata": {},
   "outputs": [],
   "source": [
    "# Preparing data for training(feature extraction)\n",
    "corpus = df['clean_tweets'].values.astype('U')\n",
    "stopwords = set(nltk_stopwords.words('english'))\n",
    "count_tf_idf = TfidfVectorizer(stop_words=stopwords)\n",
    "tf_idf = count_tf_idf.fit_transform(corpus)"
   ]
  },
  {
   "cell_type": "code",
   "execution_count": 8,
   "id": "308fb137",
   "metadata": {},
   "outputs": [],
   "source": [
    "# Saving the fitted vectorizer\n",
    "pickle.dump(count_tf_idf, open(\"tf_idf.pkt\", \"wb\"))"
   ]
  },
  {
   "cell_type": "code",
   "execution_count": 9,
   "id": "c4d2b575",
   "metadata": {},
   "outputs": [],
   "source": [
    "# Splitting data into training and testing sets\n",
    "tf_idf_train, tf_idf_test, target_train, target_test = train_test_split(\n",
    "    tf_idf, df['Toxicity'], test_size=0.8, random_state=42, shuffle=True\n",
    ")"
   ]
  },
  {
   "cell_type": "code",
   "execution_count": 10,
   "id": "be11224b",
   "metadata": {},
   "outputs": [],
   "source": [
    "# Training the model\n",
    "model_bayes = MultinomialNB()\n",
    "model_bayes = model_bayes.fit(tf_idf_train, target_train)\n"
   ]
  },
  {
   "cell_type": "code",
   "execution_count": 11,
   "id": "723f0926",
   "metadata": {},
   "outputs": [
    {
     "name": "stdout",
     "output_type": "stream",
     "text": [
      "Model Accuracy: 0.91\n"
     ]
    }
   ],
   "source": [
    "# Calculating accuracy\n",
    "predictions = model_bayes.predict(tf_idf_test)\n",
    "accuracy = accuracy_score(target_test, predictions)\n",
    "print(f\"Model Accuracy: {accuracy:.2f}\")"
   ]
  },
  {
   "cell_type": "code",
   "execution_count": 12,
   "id": "cf3de9b8",
   "metadata": {},
   "outputs": [
    {
     "name": "stdout",
     "output_type": "stream",
     "text": [
      "Model ROC AUC: 0.97\n"
     ]
    }
   ],
   "source": [
    "# Calculating ROC AUC score\n",
    "y_pred_proba = model_bayes.predict_proba(tf_idf_test)[:, 1]\n",
    "final_roc_auc = roc_auc_score(target_test, y_pred_proba)\n",
    "print(f\"Model ROC AUC: {final_roc_auc:.2f}\")"
   ]
  },
  {
   "cell_type": "code",
   "execution_count": 24,
   "id": "9ecb7a8a",
   "metadata": {},
   "outputs": [
    {
     "data": {
      "image/png": "[encoded data removed]",
      "text/plain": [
       "<Figure size 640x480 with 1 Axes>"
      ]
     },
     "metadata": {},
     "output_type": "display_data"
    }
   ],
   "source": [
    "fpr, tpr, _ = roc_curve(target_test, y_pred_proba)\n",
    "plt.figure()\n",
    "plt.plot(fpr, tpr, color='blue', lw=2, label=f'ROC curve (area = {final_roc_auc:.2f})')\n",
    "plt.plot([0, 1], [0, 1], color='red', lw=2, linestyle='--')\n",
    "plt.xlim([0.0, 1.0])\n",
    "plt.ylim([0.0, 1.05])\n",
    "plt.xlabel('False Positive Rate')\n",
    "plt.ylabel('True Positive Rate')\n",
    "plt.title('Receiver Operating Characteristic')\n",
    "plt.legend(loc=\"lower right\")\n",
    "plt.show()"
   ]
  },
  {
   "cell_type": "code",
   "execution_count": 47,
   "id": "ca2dbfe9",
   "metadata": {},
   "outputs": [],
   "source": [
    "# Saving the trained model\n",
    "pickle.dump(model_bayes, open(\"toxicity_model.pkt\", \"wb\"))"
   ]
  },
  {
   "cell_type": "code",
   "execution_count": 48,
   "id": "97e5265e",
   "metadata": {},
   "outputs": [],
   "source": [
    "# Loading the model and TF-IDF vectorizer for user input\n",
    "count_tf_idf = pickle.load(open(\"tf_idf.pkt\", \"rb\"))\n",
    "model_bayes = pickle.load(open(\"toxicity_model.pkt\", \"rb\"))"
   ]
  },
  {
   "cell_type": "code",
   "execution_count": 49,
   "id": "70d4b316",
   "metadata": {},
   "outputs": [],
   "source": [
    "# Predict toxicity function\n",
    "def predict_toxicity():\n",
    "    input_text = entry.get()  # Get input text from GUI\n",
    "    clean_text = prepare_text(input_text)  # Preprocess the text\n",
    "    tfidf_text = count_tf_idf.transform([clean_text])  # Transform the text using TF-IDF vectorizer\n",
    "    prediction = model_bayes.predict(tfidf_text)  # Make prediction using Naive Bayes model\n",
    "    prediction_proba = model_bayes.predict_proba(tfidf_text)  # Get prediction probabilities\n",
    "    if prediction[0] == 1:\n",
    "        result.set(f\"Toxic (Probability: {prediction_proba[0][1]:.2f})\")\n",
    "    else:\n",
    "        result.set(f\"Not Toxic (Probability: {prediction_proba[0][0]:.2f})\")"
   ]
  },
  {
   "cell_type": "code",
   "execution_count": 50,
   "id": "72c7e108",
   "metadata": {},
   "outputs": [
    {
     "data": {
      "text/plain": [
       "''"
      ]
     },
     "execution_count": 50,
     "metadata": {},
     "output_type": "execute_result"
    }
   ],
   "source": [
    "# Main window\n",
    "root = tk.Tk()\n",
    "root.title(\"Toxicity Classifier\")"
   ]
  },
  {
   "cell_type": "code",
   "execution_count": 51,
   "id": "696b7abf",
   "metadata": {},
   "outputs": [],
   "source": [
    "#input field\n",
    "entry_label = ttk.Label(root, text=\"Enter a tweet/comment:\")\n",
    "entry_label.pack(pady=5)\n",
    "entry = ttk.Entry(root, width=50)\n",
    "entry.pack(pady=5)\n",
    "\n",
    "#predict button\n",
    "predict_button = ttk.Button(root, text=\"Classify\", command=predict_toxicity)\n",
    "predict_button.pack(pady=5)\n",
    "\n",
    "#result label\n",
    "result = tk.StringVar()\n",
    "result_label = ttk.Label(root, textvariable=result)\n",
    "result_label.pack(pady=5)\n",
    "\n",
    "# Running the GUI event loop\n",
    "root.mainloop()"
   ]
  },
  {
   "cell_type": "code",
   "execution_count": null,
   "id": "7b71a162",
   "metadata": {},
   "outputs": [],
   "source": []
  }
 ],
 "metadata": {
  "kernelspec": {
   "display_name": "Python 3 (ipykernel)",
   "language": "python",
   "name": "python3"
  },
  "language_info": {
   "codemirror_mode": {
    "name": "ipython",
    "version": 3
   },
   "file_extension": ".py",
   "mimetype": "text/x-python",
   "name": "python",
   "nbconvert_exporter": "python",
   "pygments_lexer": "ipython3",
   "version": "3.9.13"
  }
 },
 "nbformat": 4,
 "nbformat_minor": 5
}
